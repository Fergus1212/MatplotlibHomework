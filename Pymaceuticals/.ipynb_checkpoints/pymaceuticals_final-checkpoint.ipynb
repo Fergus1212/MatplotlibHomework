{
 "cells": [
  {
   "cell_type": "markdown",
   "metadata": {},
   "source": [
    "## Observations and Insights"
   ]
  },
  {
   "cell_type": "markdown",
   "metadata": {},
   "source": []
  },
  {
   "cell_type": "markdown",
   "metadata": {},
   "source": [
    "## Dependencies and starter code"
   ]
  },
  {
   "cell_type": "code",
   "execution_count": 1,
   "metadata": {},
   "outputs": [
    {
     "data": {
      "text/html": [
       "<div>\n",
       "<style scoped>\n",
       "    .dataframe tbody tr th:only-of-type {\n",
       "        vertical-align: middle;\n",
       "    }\n",
       "\n",
       "    .dataframe tbody tr th {\n",
       "        vertical-align: top;\n",
       "    }\n",
       "\n",
       "    .dataframe thead th {\n",
       "        text-align: right;\n",
       "    }\n",
       "</style>\n",
       "<table border=\"1\" class=\"dataframe\">\n",
       "  <thead>\n",
       "    <tr style=\"text-align: right;\">\n",
       "      <th></th>\n",
       "      <th>Mouse ID</th>\n",
       "      <th>Timepoint</th>\n",
       "      <th>Tumor Volume (mm3)</th>\n",
       "      <th>Metastatic Sites</th>\n",
       "      <th>Drug Regimen</th>\n",
       "      <th>Sex</th>\n",
       "      <th>Age_months</th>\n",
       "      <th>Weight (g)</th>\n",
       "    </tr>\n",
       "  </thead>\n",
       "  <tbody>\n",
       "    <tr>\n",
       "      <td>0</td>\n",
       "      <td>b128</td>\n",
       "      <td>0</td>\n",
       "      <td>45.000000</td>\n",
       "      <td>0</td>\n",
       "      <td>Capomulin</td>\n",
       "      <td>Female</td>\n",
       "      <td>9</td>\n",
       "      <td>22</td>\n",
       "    </tr>\n",
       "    <tr>\n",
       "      <td>1</td>\n",
       "      <td>b128</td>\n",
       "      <td>5</td>\n",
       "      <td>45.651331</td>\n",
       "      <td>0</td>\n",
       "      <td>Capomulin</td>\n",
       "      <td>Female</td>\n",
       "      <td>9</td>\n",
       "      <td>22</td>\n",
       "    </tr>\n",
       "    <tr>\n",
       "      <td>2</td>\n",
       "      <td>b128</td>\n",
       "      <td>10</td>\n",
       "      <td>43.270852</td>\n",
       "      <td>0</td>\n",
       "      <td>Capomulin</td>\n",
       "      <td>Female</td>\n",
       "      <td>9</td>\n",
       "      <td>22</td>\n",
       "    </tr>\n",
       "    <tr>\n",
       "      <td>3</td>\n",
       "      <td>b128</td>\n",
       "      <td>15</td>\n",
       "      <td>43.784893</td>\n",
       "      <td>0</td>\n",
       "      <td>Capomulin</td>\n",
       "      <td>Female</td>\n",
       "      <td>9</td>\n",
       "      <td>22</td>\n",
       "    </tr>\n",
       "    <tr>\n",
       "      <td>4</td>\n",
       "      <td>b128</td>\n",
       "      <td>20</td>\n",
       "      <td>42.731552</td>\n",
       "      <td>0</td>\n",
       "      <td>Capomulin</td>\n",
       "      <td>Female</td>\n",
       "      <td>9</td>\n",
       "      <td>22</td>\n",
       "    </tr>\n",
       "  </tbody>\n",
       "</table>\n",
       "</div>"
      ],
      "text/plain": [
       "  Mouse ID  Timepoint  Tumor Volume (mm3)  Metastatic Sites Drug Regimen  \\\n",
       "0     b128          0           45.000000                 0    Capomulin   \n",
       "1     b128          5           45.651331                 0    Capomulin   \n",
       "2     b128         10           43.270852                 0    Capomulin   \n",
       "3     b128         15           43.784893                 0    Capomulin   \n",
       "4     b128         20           42.731552                 0    Capomulin   \n",
       "\n",
       "      Sex  Age_months  Weight (g)  \n",
       "0  Female           9          22  \n",
       "1  Female           9          22  \n",
       "2  Female           9          22  \n",
       "3  Female           9          22  \n",
       "4  Female           9          22  "
      ]
     },
     "execution_count": 1,
     "metadata": {},
     "output_type": "execute_result"
    }
   ],
   "source": [
    "# Dependencies and Setup\n",
    "import matplotlib.pyplot as plt\n",
    "import pandas as pd\n",
    "import numpy as np\n",
    "import scipy.stats as st\n",
    "from scipy.stats import linregress\n",
    "\n",
    "# Study data files\n",
    "mouse_metadata = \"data/Mouse_metadata.csv\"\n",
    "study_results = \"data/Study_results.csv\"\n",
    "\n",
    "# Read the mouse data and the study results\n",
    "mouse_metadata = pd.read_csv(mouse_metadata)\n",
    "study_results = pd.read_csv(study_results)\n",
    "\n",
    "# Combine the data into a single dataset\n",
    "df=study_results.merge(mouse_metadata,how = 'outer', on='Mouse ID')\n",
    "\n",
    "df.head()"
   ]
  },
  {
   "cell_type": "markdown",
   "metadata": {},
   "source": [
    "## Summary statistics"
   ]
  },
  {
   "cell_type": "code",
   "execution_count": 2,
   "metadata": {},
   "outputs": [
    {
     "data": {
      "text/html": [
       "<div>\n",
       "<style scoped>\n",
       "    .dataframe tbody tr th:only-of-type {\n",
       "        vertical-align: middle;\n",
       "    }\n",
       "\n",
       "    .dataframe tbody tr th {\n",
       "        vertical-align: top;\n",
       "    }\n",
       "\n",
       "    .dataframe thead th {\n",
       "        text-align: right;\n",
       "    }\n",
       "</style>\n",
       "<table border=\"1\" class=\"dataframe\">\n",
       "  <thead>\n",
       "    <tr style=\"text-align: right;\">\n",
       "      <th></th>\n",
       "      <th>Mean</th>\n",
       "      <th>Median</th>\n",
       "      <th>Variance</th>\n",
       "      <th>STD DEV</th>\n",
       "      <th>SEM</th>\n",
       "    </tr>\n",
       "    <tr>\n",
       "      <th>Drug Regimen</th>\n",
       "      <th></th>\n",
       "      <th></th>\n",
       "      <th></th>\n",
       "      <th></th>\n",
       "      <th></th>\n",
       "    </tr>\n",
       "  </thead>\n",
       "  <tbody>\n",
       "    <tr>\n",
       "      <td>Capomulin</td>\n",
       "      <td>40.675741</td>\n",
       "      <td>41.557809</td>\n",
       "      <td>24.947764</td>\n",
       "      <td>4.994774</td>\n",
       "      <td>0.329346</td>\n",
       "    </tr>\n",
       "    <tr>\n",
       "      <td>Ceftamin</td>\n",
       "      <td>52.591172</td>\n",
       "      <td>51.776157</td>\n",
       "      <td>39.290177</td>\n",
       "      <td>6.268188</td>\n",
       "      <td>0.469821</td>\n",
       "    </tr>\n",
       "    <tr>\n",
       "      <td>Infubinol</td>\n",
       "      <td>52.884795</td>\n",
       "      <td>51.820584</td>\n",
       "      <td>43.128684</td>\n",
       "      <td>6.567243</td>\n",
       "      <td>0.492236</td>\n",
       "    </tr>\n",
       "    <tr>\n",
       "      <td>Ketapril</td>\n",
       "      <td>55.235638</td>\n",
       "      <td>53.698743</td>\n",
       "      <td>68.553577</td>\n",
       "      <td>8.279709</td>\n",
       "      <td>0.603860</td>\n",
       "    </tr>\n",
       "    <tr>\n",
       "      <td>Naftisol</td>\n",
       "      <td>54.331565</td>\n",
       "      <td>52.509285</td>\n",
       "      <td>66.173479</td>\n",
       "      <td>8.134708</td>\n",
       "      <td>0.596466</td>\n",
       "    </tr>\n",
       "    <tr>\n",
       "      <td>Placebo</td>\n",
       "      <td>54.033581</td>\n",
       "      <td>52.288934</td>\n",
       "      <td>61.168083</td>\n",
       "      <td>7.821003</td>\n",
       "      <td>0.581331</td>\n",
       "    </tr>\n",
       "    <tr>\n",
       "      <td>Propriva</td>\n",
       "      <td>52.322552</td>\n",
       "      <td>50.854632</td>\n",
       "      <td>42.351070</td>\n",
       "      <td>6.507770</td>\n",
       "      <td>0.512884</td>\n",
       "    </tr>\n",
       "    <tr>\n",
       "      <td>Ramicane</td>\n",
       "      <td>40.216745</td>\n",
       "      <td>40.673236</td>\n",
       "      <td>23.486704</td>\n",
       "      <td>4.846308</td>\n",
       "      <td>0.320955</td>\n",
       "    </tr>\n",
       "    <tr>\n",
       "      <td>Stelasyn</td>\n",
       "      <td>54.233149</td>\n",
       "      <td>52.431737</td>\n",
       "      <td>59.450562</td>\n",
       "      <td>7.710419</td>\n",
       "      <td>0.573111</td>\n",
       "    </tr>\n",
       "    <tr>\n",
       "      <td>Zoniferol</td>\n",
       "      <td>53.236507</td>\n",
       "      <td>51.818479</td>\n",
       "      <td>48.533355</td>\n",
       "      <td>6.966589</td>\n",
       "      <td>0.516398</td>\n",
       "    </tr>\n",
       "  </tbody>\n",
       "</table>\n",
       "</div>"
      ],
      "text/plain": [
       "                   Mean     Median   Variance   STD DEV       SEM\n",
       "Drug Regimen                                                     \n",
       "Capomulin     40.675741  41.557809  24.947764  4.994774  0.329346\n",
       "Ceftamin      52.591172  51.776157  39.290177  6.268188  0.469821\n",
       "Infubinol     52.884795  51.820584  43.128684  6.567243  0.492236\n",
       "Ketapril      55.235638  53.698743  68.553577  8.279709  0.603860\n",
       "Naftisol      54.331565  52.509285  66.173479  8.134708  0.596466\n",
       "Placebo       54.033581  52.288934  61.168083  7.821003  0.581331\n",
       "Propriva      52.322552  50.854632  42.351070  6.507770  0.512884\n",
       "Ramicane      40.216745  40.673236  23.486704  4.846308  0.320955\n",
       "Stelasyn      54.233149  52.431737  59.450562  7.710419  0.573111\n",
       "Zoniferol     53.236507  51.818479  48.533355  6.966589  0.516398"
      ]
     },
     "execution_count": 2,
     "metadata": {},
     "output_type": "execute_result"
    }
   ],
   "source": [
    "# Generate a summary statistics table of mean, median, variance, standard deviation, and SEM of the tumor volume for each regimen\n",
    "\n",
    "grpby_drug = df.groupby('Drug Regimen')\n",
    "\n",
    "drug_mean = grpby_drug['Tumor Volume (mm3)'].mean()\n",
    "drug_variance = grpby_drug['Tumor Volume (mm3)'].var()\n",
    "drug_std = grpby_drug['Tumor Volume (mm3)'].std()\n",
    "drug_SEM = grpby_drug['Tumor Volume (mm3)'].sem()\n",
    "drug_median = grpby_drug['Tumor Volume (mm3)'].median()\n",
    "grpby_drug_df = pd.DataFrame(drug_mean)\n",
    "grpby_drug_df=grpby_drug_df.rename(columns ={'Tumor Volume (mm3)':'Mean'})\n",
    "\n",
    "grpby_drug_df['Median']=drug_median\n",
    "grpby_drug_df['Variance']=drug_variance\n",
    "grpby_drug_df['STD DEV']=drug_std\n",
    "grpby_drug_df['SEM']=drug_SEM\n",
    "\n",
    "grpby_drug_df"
   ]
  },
  {
   "cell_type": "markdown",
   "metadata": {},
   "source": [
    "## Bar plots"
   ]
  },
  {
   "cell_type": "code",
   "execution_count": 3,
   "metadata": {},
   "outputs": [
    {
     "data": {
      "text/plain": [
       "Text(0, 0.5, 'Number of Data Points')"
      ]
     },
     "execution_count": 3,
     "metadata": {},
     "output_type": "execute_result"
    },
    {
     "data": {
      "image/png": "[encoded data removed]",
      "text/plain": [
       "<Figure size 432x288 with 1 Axes>"
      ]
     },
     "metadata": {
      "needs_background": "light"
     },
     "output_type": "display_data"
    }
   ],
   "source": [
    "# Generate a bar plot showing number of data points for each treatment regimen using pandas\n",
    "grpby_drugc = df.groupby('Drug Regimen')\n",
    "drug_count = grpby_drugc['Drug Regimen'].count()\n",
    "grpby_drug_dfc = pd.DataFrame(drug_count)\n",
    "bar_drugc_pd = grpby_drug_dfc.plot.bar(legend=False,title='Count of Data Points by Drug')\n",
    "plt.ylabel('Number of Data Points')"
   ]
  },
  {
   "cell_type": "code",
   "execution_count": 4,
   "metadata": {},
   "outputs": [
    {
     "data": {
      "text/plain": [
       "Text(0.5, 1.0, 'Count of Data Points by Drug')"
      ]
     },
     "execution_count": 4,
     "metadata": {},
     "output_type": "execute_result"
    },
    {
     "data": {
      "image/png": "[encoded data removed]",
      "text/plain": [
       "<Figure size 432x288 with 1 Axes>"
      ]
     },
     "metadata": {
      "needs_background": "light"
     },
     "output_type": "display_data"
    }
   ],
   "source": [
    "# Generate a bar plot showing number of data points for each treatment regimen using pyplot\n",
    "drugs =  df['Drug Regimen'].unique()\n",
    "y_pos = np.arange(len(drugs))\n",
    "plt.bar(y_pos, drug_count ,alpha=.75,color='blue')\n",
    "plt.xticks(y_pos, drugs,rotation=90)\n",
    "plt.xlabel('Drug Regimen')\n",
    "plt.ylabel('Number of Data Points')\n",
    "plt.title('Count of Data Points by Drug')"
   ]
  },
  {
   "cell_type": "markdown",
   "metadata": {},
   "source": [
    "## Pie plots"
   ]
  },
  {
   "cell_type": "code",
   "execution_count": 5,
   "metadata": {},
   "outputs": [
    {
     "data": {
      "text/plain": [
       "<matplotlib.axes._subplots.AxesSubplot at 0x22bc364db08>"
      ]
     },
     "execution_count": 5,
     "metadata": {},
     "output_type": "execute_result"
    },
    {
     "data": {
      "image/png": "[encoded data removed]",
      "text/plain": [
       "<Figure size 432x288 with 1 Axes>"
      ]
     },
     "metadata": {},
     "output_type": "display_data"
    }
   ],
   "source": [
    "# Generate a pie plot showing the distribution of female versus male mice using pandas\n",
    "grpby_sex = df.groupby('Sex')\n",
    "sex_count = grpby_sex['Sex'].count()\n",
    "grpby_sex_dfc = pd.DataFrame(sex_count)\n",
    "pie=grpby_sex_dfc.plot.pie(y='Sex',legend=False)\n",
    "\n",
    "pie"
   ]
  },
  {
   "cell_type": "code",
   "execution_count": 6,
   "metadata": {},
   "outputs": [
    {
     "data": {
      "image/png": "[encoded data removed]",
      "text/plain": [
       "<Figure size 432x288 with 1 Axes>"
      ]
     },
     "metadata": {},
     "output_type": "display_data"
    }
   ],
   "source": [
    "# Generate a pie plot showing the distribution of female versus male mice using pyplot\n",
    "labels = 'Female','Male'\n",
    "sizes = sex_count\n",
    "fig1, ax1 = plt.subplots()\n",
    "ax1.pie(sizes, labels=labels,shadow=True, startangle=360)\n",
    "ax1.xaxis.set_label_text(\"\")\n",
    "plt.ylabel('Sex')\n",
    "plt.show()\n"
   ]
  },
  {
   "cell_type": "markdown",
   "metadata": {},
   "source": [
    "## Quartiles, outliers and boxplots"
   ]
  },
  {
   "cell_type": "code",
   "execution_count": 91,
   "metadata": {},
   "outputs": [
    {
     "data": {
      "text/html": [
       "<div>\n",
       "<style scoped>\n",
       "    .dataframe tbody tr th:only-of-type {\n",
       "        vertical-align: middle;\n",
       "    }\n",
       "\n",
       "    .dataframe tbody tr th {\n",
       "        vertical-align: top;\n",
       "    }\n",
       "\n",
       "    .dataframe thead th {\n",
       "        text-align: right;\n",
       "    }\n",
       "</style>\n",
       "<table border=\"1\" class=\"dataframe\">\n",
       "  <thead>\n",
       "    <tr style=\"text-align: right;\">\n",
       "      <th></th>\n",
       "      <th>Timepoint</th>\n",
       "      <th>Tumor Volume</th>\n",
       "    </tr>\n",
       "    <tr>\n",
       "      <th>Mouse ID</th>\n",
       "      <th></th>\n",
       "      <th></th>\n",
       "    </tr>\n",
       "  </thead>\n",
       "  <tbody>\n",
       "  </tbody>\n",
       "</table>\n",
       "</div>"
      ],
      "text/plain": [
       "Empty DataFrame\n",
       "Columns: [Timepoint, Tumor Volume]\n",
       "Index: []"
      ]
     },
     "execution_count": 91,
     "metadata": {},
     "output_type": "execute_result"
    }
   ],
   "source": [
    "# Calculate the final tumor volume of each mouse across four of the most promising treatment regimens. \n",
    "#Calculate the IQR and quantitatively determine if there are any potential outliers. \n",
    "\n",
    "mouse_cap_final_df= df.loc[df['Drug Regimen']=='Capomulin']\n",
    "mouse_grp_by = mouse_cap_final_df.groupby('Mouse ID')\n",
    "cap_final_time = mouse_grp_by['Timepoint'].max()\n",
    "cap_final_volume = mouse_grp_by['Tumor Volume (mm3)'].max()\n",
    "grpby_drug_df = pd.DataFrame(cap_final_time)\n",
    "grpby_drug_df['Tumor Volume']=cap_final_volume\n",
    "\n",
    "\n",
    "cap_tumor_size=grpby_drug_df['Tumor Volume']\n",
    "quartiles = cap_tumor_size.quantile([.25,.5,.75])\n",
    "lowerq = quartiles[0.25]\n",
    "upperq = quartiles[0.75]\n",
    "iqr = upperq-lowerq\n",
    "lower_bound = lowerq - (1.5*iqr)\n",
    "upper_bound = upperq + (1.5*iqr)\n",
    "cap_outliers_tumor = grpby_drug_df[(grpby_drug_df['Tumor Volume']<lower_bound) | (grpby_drug_df['Tumor Volume']>upper_bound)] \n",
    "cap_outliers_tumor\n"
   ]
  },
  {
   "cell_type": "code",
   "execution_count": null,
   "metadata": {},
   "outputs": [],
   "source": []
  },
  {
   "cell_type": "code",
   "execution_count": 92,
   "metadata": {},
   "outputs": [
    {
     "data": {
      "text/html": [
       "<div>\n",
       "<style scoped>\n",
       "    .dataframe tbody tr th:only-of-type {\n",
       "        vertical-align: middle;\n",
       "    }\n",
       "\n",
       "    .dataframe tbody tr th {\n",
       "        vertical-align: top;\n",
       "    }\n",
       "\n",
       "    .dataframe thead th {\n",
       "        text-align: right;\n",
       "    }\n",
       "</style>\n",
       "<table border=\"1\" class=\"dataframe\">\n",
       "  <thead>\n",
       "    <tr style=\"text-align: right;\">\n",
       "      <th></th>\n",
       "      <th>Timepoint</th>\n",
       "      <th>Tumor Volume</th>\n",
       "    </tr>\n",
       "    <tr>\n",
       "      <th>Mouse ID</th>\n",
       "      <th></th>\n",
       "      <th></th>\n",
       "    </tr>\n",
       "  </thead>\n",
       "  <tbody>\n",
       "  </tbody>\n",
       "</table>\n",
       "</div>"
      ],
      "text/plain": [
       "Empty DataFrame\n",
       "Columns: [Timepoint, Tumor Volume]\n",
       "Index: []"
      ]
     },
     "execution_count": 92,
     "metadata": {},
     "output_type": "execute_result"
    }
   ],
   "source": [
    "mouse_ram_final_df= df.loc[df['Drug Regimen']=='Ramicane']\n",
    "mouse_grp_by_ram = mouse_ram_final_df.groupby('Mouse ID')\n",
    "ram_final_time = mouse_grp_by_ram['Timepoint'].max()\n",
    "ram_final_volume = mouse_grp_by_ram['Tumor Volume (mm3)'].max()\n",
    "grpby_ram_df = pd.DataFrame(ram_final_time)\n",
    "grpby_ram_df['Tumor Volume']=ram_final_volume\n",
    "\n",
    "\n",
    "Ramicane_tumor_size=grpby_ram_df['Tumor Volume']\n",
    "quartile_ram = Ramicane_tumor_size.quantile([.25,.5,.75])\n",
    "lowerq = quartiles[0.25]\n",
    "upperq = quartiles[0.75]\n",
    "iqr = upperq-lowerq\n",
    "lower_bound = lowerq - (1.5*iqr)\n",
    "upper_bound = upperq + (1.5*iqr)\n",
    "ram_outliers_tumor = grpby_drug_df[(grpby_drug_df['Tumor Volume']<lower_bound) | (grpby_drug_df['Tumor Volume']>upper_bound)] \n",
    "ram_outliers_tumor"
   ]
  },
  {
   "cell_type": "code",
   "execution_count": 93,
   "metadata": {},
   "outputs": [
    {
     "data": {
      "text/html": [
       "<div>\n",
       "<style scoped>\n",
       "    .dataframe tbody tr th:only-of-type {\n",
       "        vertical-align: middle;\n",
       "    }\n",
       "\n",
       "    .dataframe tbody tr th {\n",
       "        vertical-align: top;\n",
       "    }\n",
       "\n",
       "    .dataframe thead th {\n",
       "        text-align: right;\n",
       "    }\n",
       "</style>\n",
       "<table border=\"1\" class=\"dataframe\">\n",
       "  <thead>\n",
       "    <tr style=\"text-align: right;\">\n",
       "      <th></th>\n",
       "      <th>Timepoint</th>\n",
       "      <th>Tumor Volume</th>\n",
       "    </tr>\n",
       "    <tr>\n",
       "      <th>Mouse ID</th>\n",
       "      <th></th>\n",
       "      <th></th>\n",
       "    </tr>\n",
       "  </thead>\n",
       "  <tbody>\n",
       "    <tr>\n",
       "      <td>a203</td>\n",
       "      <td>45</td>\n",
       "      <td>67.973419</td>\n",
       "    </tr>\n",
       "    <tr>\n",
       "      <td>a251</td>\n",
       "      <td>45</td>\n",
       "      <td>65.525743</td>\n",
       "    </tr>\n",
       "    <tr>\n",
       "      <td>a577</td>\n",
       "      <td>30</td>\n",
       "      <td>57.031862</td>\n",
       "    </tr>\n",
       "    <tr>\n",
       "      <td>a685</td>\n",
       "      <td>45</td>\n",
       "      <td>66.083066</td>\n",
       "    </tr>\n",
       "    <tr>\n",
       "      <td>c139</td>\n",
       "      <td>45</td>\n",
       "      <td>72.226731</td>\n",
       "    </tr>\n",
       "    <tr>\n",
       "      <td>c895</td>\n",
       "      <td>30</td>\n",
       "      <td>60.969711</td>\n",
       "    </tr>\n",
       "    <tr>\n",
       "      <td>e476</td>\n",
       "      <td>45</td>\n",
       "      <td>62.435404</td>\n",
       "    </tr>\n",
       "    <tr>\n",
       "      <td>f345</td>\n",
       "      <td>45</td>\n",
       "      <td>60.918767</td>\n",
       "    </tr>\n",
       "    <tr>\n",
       "      <td>i386</td>\n",
       "      <td>40</td>\n",
       "      <td>67.289621</td>\n",
       "    </tr>\n",
       "    <tr>\n",
       "      <td>k483</td>\n",
       "      <td>45</td>\n",
       "      <td>66.196912</td>\n",
       "    </tr>\n",
       "    <tr>\n",
       "      <td>k804</td>\n",
       "      <td>35</td>\n",
       "      <td>62.117279</td>\n",
       "    </tr>\n",
       "    <tr>\n",
       "      <td>n671</td>\n",
       "      <td>30</td>\n",
       "      <td>60.165180</td>\n",
       "    </tr>\n",
       "    <tr>\n",
       "      <td>o809</td>\n",
       "      <td>35</td>\n",
       "      <td>55.629428</td>\n",
       "    </tr>\n",
       "    <tr>\n",
       "      <td>q132</td>\n",
       "      <td>30</td>\n",
       "      <td>54.656549</td>\n",
       "    </tr>\n",
       "    <tr>\n",
       "      <td>s121</td>\n",
       "      <td>25</td>\n",
       "      <td>55.650681</td>\n",
       "    </tr>\n",
       "    <tr>\n",
       "      <td>v719</td>\n",
       "      <td>20</td>\n",
       "      <td>54.048608</td>\n",
       "    </tr>\n",
       "    <tr>\n",
       "      <td>v766</td>\n",
       "      <td>15</td>\n",
       "      <td>51.542431</td>\n",
       "    </tr>\n",
       "    <tr>\n",
       "      <td>w193</td>\n",
       "      <td>20</td>\n",
       "      <td>50.005138</td>\n",
       "    </tr>\n",
       "    <tr>\n",
       "      <td>w584</td>\n",
       "      <td>30</td>\n",
       "      <td>58.268442</td>\n",
       "    </tr>\n",
       "    <tr>\n",
       "      <td>y163</td>\n",
       "      <td>45</td>\n",
       "      <td>67.685569</td>\n",
       "    </tr>\n",
       "    <tr>\n",
       "      <td>z581</td>\n",
       "      <td>45</td>\n",
       "      <td>62.754451</td>\n",
       "    </tr>\n",
       "  </tbody>\n",
       "</table>\n",
       "</div>"
      ],
      "text/plain": [
       "          Timepoint  Tumor Volume\n",
       "Mouse ID                         \n",
       "a203             45     67.973419\n",
       "a251             45     65.525743\n",
       "a577             30     57.031862\n",
       "a685             45     66.083066\n",
       "c139             45     72.226731\n",
       "c895             30     60.969711\n",
       "e476             45     62.435404\n",
       "f345             45     60.918767\n",
       "i386             40     67.289621\n",
       "k483             45     66.196912\n",
       "k804             35     62.117279\n",
       "n671             30     60.165180\n",
       "o809             35     55.629428\n",
       "q132             30     54.656549\n",
       "s121             25     55.650681\n",
       "v719             20     54.048608\n",
       "v766             15     51.542431\n",
       "w193             20     50.005138\n",
       "w584             30     58.268442\n",
       "y163             45     67.685569\n",
       "z581             45     62.754451"
      ]
     },
     "execution_count": 93,
     "metadata": {},
     "output_type": "execute_result"
    }
   ],
   "source": [
    "mouse_cap_final_df= df.loc[df['Drug Regimen']=='Infubinol']\n",
    "mouse_grp_by = mouse_cap_final_df.groupby('Mouse ID')\n",
    "cap_final_time = mouse_grp_by['Timepoint'].max()\n",
    "cap_final_volume = mouse_grp_by['Tumor Volume (mm3)'].max()\n",
    "grpby_drug_df = pd.DataFrame(cap_final_time)\n",
    "grpby_drug_df['Tumor Volume']=cap_final_volume\n",
    "\n",
    "\n",
    "Infubinol_tumor_size=grpby_drug_df['Tumor Volume']\n",
    "quartiles = cap_tumor_size.quantile([.25,.5,.75])\n",
    "lowerq = quartiles[0.25]\n",
    "upperq = quartiles[0.75]\n",
    "iqr = upperq-lowerq\n",
    "lower_bound = lowerq - (1.5*iqr)\n",
    "upper_bound = upperq + (1.5*iqr)\n",
    "Infubinol_outliers_tumor = grpby_drug_df[(grpby_drug_df['Tumor Volume']<lower_bound) | (grpby_drug_df['Tumor Volume']>upper_bound)] \n",
    "\n",
    "Infubinol_outliers_tumor"
   ]
  },
  {
   "cell_type": "code",
   "execution_count": 90,
   "metadata": {},
   "outputs": [
    {
     "data": {
      "text/html": [
       "<div>\n",
       "<style scoped>\n",
       "    .dataframe tbody tr th:only-of-type {\n",
       "        vertical-align: middle;\n",
       "    }\n",
       "\n",
       "    .dataframe tbody tr th {\n",
       "        vertical-align: top;\n",
       "    }\n",
       "\n",
       "    .dataframe thead th {\n",
       "        text-align: right;\n",
       "    }\n",
       "</style>\n",
       "<table border=\"1\" class=\"dataframe\">\n",
       "  <thead>\n",
       "    <tr style=\"text-align: right;\">\n",
       "      <th></th>\n",
       "      <th>Timepoint</th>\n",
       "      <th>Tumor Volume</th>\n",
       "    </tr>\n",
       "    <tr>\n",
       "      <th>Mouse ID</th>\n",
       "      <th></th>\n",
       "      <th></th>\n",
       "    </tr>\n",
       "  </thead>\n",
       "  <tbody>\n",
       "    <tr>\n",
       "      <td>a275</td>\n",
       "      <td>45</td>\n",
       "      <td>62.999356</td>\n",
       "    </tr>\n",
       "    <tr>\n",
       "      <td>b487</td>\n",
       "      <td>25</td>\n",
       "      <td>56.057749</td>\n",
       "    </tr>\n",
       "    <tr>\n",
       "      <td>b759</td>\n",
       "      <td>30</td>\n",
       "      <td>55.742829</td>\n",
       "    </tr>\n",
       "    <tr>\n",
       "      <td>j296</td>\n",
       "      <td>45</td>\n",
       "      <td>61.849023</td>\n",
       "    </tr>\n",
       "    <tr>\n",
       "      <td>k210</td>\n",
       "      <td>45</td>\n",
       "      <td>68.923185</td>\n",
       "    </tr>\n",
       "    <tr>\n",
       "      <td>l471</td>\n",
       "      <td>45</td>\n",
       "      <td>67.748662</td>\n",
       "    </tr>\n",
       "    <tr>\n",
       "      <td>l490</td>\n",
       "      <td>30</td>\n",
       "      <td>57.918381</td>\n",
       "    </tr>\n",
       "    <tr>\n",
       "      <td>l661</td>\n",
       "      <td>45</td>\n",
       "      <td>59.851956</td>\n",
       "    </tr>\n",
       "    <tr>\n",
       "      <td>l733</td>\n",
       "      <td>45</td>\n",
       "      <td>64.299830</td>\n",
       "    </tr>\n",
       "    <tr>\n",
       "      <td>o287</td>\n",
       "      <td>45</td>\n",
       "      <td>59.741901</td>\n",
       "    </tr>\n",
       "    <tr>\n",
       "      <td>p438</td>\n",
       "      <td>45</td>\n",
       "      <td>61.433892</td>\n",
       "    </tr>\n",
       "    <tr>\n",
       "      <td>q483</td>\n",
       "      <td>40</td>\n",
       "      <td>64.192341</td>\n",
       "    </tr>\n",
       "    <tr>\n",
       "      <td>u149</td>\n",
       "      <td>25</td>\n",
       "      <td>52.925348</td>\n",
       "    </tr>\n",
       "    <tr>\n",
       "      <td>w151</td>\n",
       "      <td>45</td>\n",
       "      <td>67.527482</td>\n",
       "    </tr>\n",
       "    <tr>\n",
       "      <td>x581</td>\n",
       "      <td>45</td>\n",
       "      <td>64.634949</td>\n",
       "    </tr>\n",
       "    <tr>\n",
       "      <td>x822</td>\n",
       "      <td>45</td>\n",
       "      <td>61.386660</td>\n",
       "    </tr>\n",
       "    <tr>\n",
       "      <td>y769</td>\n",
       "      <td>45</td>\n",
       "      <td>68.594745</td>\n",
       "    </tr>\n",
       "    <tr>\n",
       "      <td>y865</td>\n",
       "      <td>45</td>\n",
       "      <td>64.729837</td>\n",
       "    </tr>\n",
       "  </tbody>\n",
       "</table>\n",
       "</div>"
      ],
      "text/plain": [
       "          Timepoint  Tumor Volume\n",
       "Mouse ID                         \n",
       "a275             45     62.999356\n",
       "b487             25     56.057749\n",
       "b759             30     55.742829\n",
       "j296             45     61.849023\n",
       "k210             45     68.923185\n",
       "l471             45     67.748662\n",
       "l490             30     57.918381\n",
       "l661             45     59.851956\n",
       "l733             45     64.299830\n",
       "o287             45     59.741901\n",
       "p438             45     61.433892\n",
       "q483             40     64.192341\n",
       "u149             25     52.925348\n",
       "w151             45     67.527482\n",
       "x581             45     64.634949\n",
       "x822             45     61.386660\n",
       "y769             45     68.594745\n",
       "y865             45     64.729837"
      ]
     },
     "execution_count": 90,
     "metadata": {},
     "output_type": "execute_result"
    }
   ],
   "source": [
    "mouse_cap_final_df= df.loc[df['Drug Regimen']=='Ceftamin']\n",
    "mouse_grp_by = mouse_cap_final_df.groupby('Mouse ID')\n",
    "cap_final_time = mouse_grp_by['Timepoint'].max()\n",
    "cap_final_volume = mouse_grp_by['Tumor Volume (mm3)'].max()\n",
    "grpby_drug_df = pd.DataFrame(cap_final_time)\n",
    "grpby_drug_df['Tumor Volume']=cap_final_volume\n",
    "\n",
    "\n",
    "Ceftamin_tumor_size=grpby_drug_df['Tumor Volume']\n",
    "quartiles = cap_tumor_size.quantile([.25,.5,.75])\n",
    "lowerq = quartiles[0.25]\n",
    "upperq = quartiles[0.75]\n",
    "iqr = upperq-lowerq\n",
    "lower_bound = lowerq - (1.5*iqr)\n",
    "upper_bound = upperq + (1.5*iqr)\n",
    "Ceftamin_outliers_tumor = grpby_drug_df[(grpby_drug_df['Tumor Volume']<lower_bound) | (grpby_drug_df['Tumor Volume']>upper_bound)] \n",
    "\n",
    "Ceftamin_outliers_tumor "
   ]
  },
  {
   "cell_type": "code",
   "execution_count": null,
   "metadata": {},
   "outputs": [],
   "source": [
    "# Generate a box plot of the final tumor volume of each mouse across four regimens of interest\n",
    "\n"
   ]
  },
  {
   "cell_type": "code",
   "execution_count": null,
   "metadata": {},
   "outputs": [],
   "source": []
  },
  {
   "cell_type": "code",
   "execution_count": null,
   "metadata": {},
   "outputs": [],
   "source": []
  },
  {
   "cell_type": "code",
   "execution_count": 87,
   "metadata": {
    "scrolled": true
   },
   "outputs": [
    {
     "data": {
      "image/png": "[encoded data removed]",
      "text/plain": [
       "<Figure size 432x288 with 1 Axes>"
      ]
     },
     "metadata": {
      "needs_background": "light"
     },
     "output_type": "display_data"
    }
   ],
   "source": [
    "data =[Ceftamin_tumor_size,Infubinol_tumor_size,Ramicane_tumor_size,cap_tumor_size]\n",
    "fig1, ax1 = plt.subplots()\n",
    "ax1.set_title('Drug Trials Tumor Volume of each Mouse')\n",
    "combined =plt.boxplot(data, showfliers = True, whis =[0,100])\n",
    "combined = ax1.set_ylabel('Volume (mm3)')\n",
    "plt.xticks([1, 2, 3,4], ['Ceftamin', 'Infubinol', 'Ramicane','Capomulin'])\n",
    "\n",
    "plt.show()\n"
   ]
  },
  {
   "cell_type": "markdown",
   "metadata": {},
   "source": [
    "## Line and scatter plots"
   ]
  },
  {
   "cell_type": "code",
   "execution_count": 40,
   "metadata": {},
   "outputs": [
    {
     "data": {
      "text/plain": [
       "Text(0, 0.5, 'Tumor Volume(mm3)')"
      ]
     },
     "execution_count": 40,
     "metadata": {},
     "output_type": "execute_result"
    },
    {
     "data": {
      "image/png": "[encoded data removed]",
      "text/plain": [
       "<Figure size 432x288 with 1 Axes>"
      ]
     },
     "metadata": {
      "needs_background": "light"
     },
     "output_type": "display_data"
    }
   ],
   "source": [
    "\n",
    "# Generate a line plot of time point versus tumor volume for a mouse treated with Capomulin\n",
    "mouse_df = df.loc[df['Drug Regimen'].isin(['Capomulin'])]\n",
    "mouse_df = df.loc[df['Mouse ID'].isin(['i557'])]\n",
    "mouse_df.set_index('Timepoint')['Tumor Volume (mm3)'].plot();\n",
    "plt.title('i557 on Capomulin')\n",
    "plt.ylabel('Tumor Volume(mm3)')"
   ]
  },
  {
   "cell_type": "code",
   "execution_count": 41,
   "metadata": {},
   "outputs": [
    {
     "data": {
      "text/plain": [
       "Text(0.5, 1.0, 'Avg Weight VS. Avg Tumor Volume')"
      ]
     },
     "execution_count": 41,
     "metadata": {},
     "output_type": "execute_result"
    },
    {
     "data": {
      "image/png": "[encoded data removed]",
      "text/plain": [
       "<Figure size 432x288 with 1 Axes>"
      ]
     },
     "metadata": {
      "needs_background": "light"
     },
     "output_type": "display_data"
    }
   ],
   "source": [
    "# Generate a scatter plot of mouse weight versus average tumor volume for the Capomulin regimen\n",
    "Capomulin_df = df.loc[df['Drug Regimen'].isin(['Capomulin'])]\n",
    "grpby_scatter = Capomulin_df.groupby('Mouse ID')\n",
    "scatter_mean = grpby_scatter['Tumor Volume (mm3)'].mean()\n",
    "scatter_weight = grpby_scatter['Weight (g)'].mean()\n",
    "\n",
    "grpby_scatter_dfm = pd.DataFrame(scatter_mean)\n",
    "grpby_scatter_dfm=grpby_scatter_dfm.rename(columns ={'Tumor Volume (mm3)':'Mean Tumor Volume'})\n",
    "grpby_scatter_dfm['Average Weight']=scatter_weight\n",
    "\n",
    "scatter=grpby_scatter_dfm.plot.scatter(x='Mean Tumor Volume', y='Average Weight')\n",
    "plt.title('Avg Weight VS. Avg Tumor Volume')"
   ]
  },
  {
   "cell_type": "code",
   "execution_count": 42,
   "metadata": {},
   "outputs": [
    {
     "name": "stdout",
     "output_type": "stream",
     "text": [
      "The correlation coefficient between weight and tumor size is 0.84\n"
     ]
    },
    {
     "data": {
      "text/plain": [
       "<function matplotlib.pyplot.show(*args, **kw)>"
      ]
     },
     "execution_count": 42,
     "metadata": {},
     "output_type": "execute_result"
    },
    {
     "data": {
      "image/png": "[encoded data removed]",
      "text/plain": [
       "<Figure size 432x288 with 1 Axes>"
      ]
     },
     "metadata": {
      "needs_background": "light"
     },
     "output_type": "display_data"
    }
   ],
   "source": [
    "# Calculate the correlation coefficient and linear regression model for mouse weight and average tumor volume \n",
    "#for the Capomulin regimen\n",
    "\n",
    "correlation = round(st.pearsonr(scatter_mean,scatter_weight)[0],2)\n",
    "print(f\"The correlation coefficient between weight and tumor size is {correlation}\")\n",
    "(slope, intercept, rvalue, pvalue, stderr) = linregress(scatter_mean, scatter_weight)\n",
    "regress_values = scatter_mean * slope + intercept\n",
    "line_eq = \"y = \" + str(round(slope,2)) + \"x + \" + str(round(intercept,2))\n",
    "plt.scatter(scatter_mean, scatter_weight)\n",
    "plt.plot(scatter_mean,regress_values,\"r-\")\n",
    "plt.annotate(line_eq,(42,16),fontsize=15,color=\"red\")\n",
    "plt.xlabel('Average Tumor Size')\n",
    "plt.ylabel('Average Weight')\n",
    "plt.title('Avg Weight VS. Avg Tumor Volume')\n",
    "plt.show"
   ]
  },
  {
   "cell_type": "markdown",
   "metadata": {},
   "source": [
    "\n",
    "# Three observations regarding the data\n",
    "\n",
    "First there is a strong correlation between tumor volume and mouse weight (pearson 0.84). Secondly Capomulin and Ramicane performed very well in the trials. Neither drug had any outliers, and thier average tumor size was over 10mm3 smaller than the other drugs. This was due to a low variance, possibly indicating a very reliable formula. Finally, there may be some cause for concern, as there are an uneven number of data points for each drug trial in this data set. \n",
    "\n",
    "\n",
    "\n",
    "\n",
    "\n",
    "\n",
    "\n",
    "\n",
    "\n",
    "\n",
    "\n",
    "\n",
    "\n",
    "\n",
    "\n",
    "\n",
    "\n",
    "\n",
    "\n",
    "\n",
    "\n",
    "\n",
    "\n",
    "\n",
    "\n",
    "\n",
    "\n",
    "\n",
    "\n",
    "\n",
    "\n",
    "\n",
    "\n",
    "\n",
    "\n",
    "\n",
    "\n",
    "\n"
   ]
  }
 ],
 "metadata": {
  "anaconda-cloud": {},
  "kernelspec": {
   "display_name": "Python 3",
   "language": "python",
   "name": "python3"
  },
  "language_info": {
   "codemirror_mode": {
    "name": "ipython",
    "version": 3
   },
   "file_extension": ".py",
   "mimetype": "text/x-python",
   "name": "python",
   "nbconvert_exporter": "python",
   "pygments_lexer": "ipython3",
   "version": "3.7.4"
  }
 },
 "nbformat": 4,
 "nbformat_minor": 2
}
